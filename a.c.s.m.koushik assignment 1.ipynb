{
 "cells": [
  {
   "cell_type": "code",
   "execution_count": 1,
   "id": "bf5a6ed4-d124-4aa1-a159-17ede4005e52",
   "metadata": {},
   "outputs": [],
   "source": [
    "#Exercise 1: Prime Numbers\n"
   ]
  },
  {
   "cell_type": "code",
   "execution_count": 15,
   "id": "f0fa323d-fc49-4fe5-a74f-2deafdcb49a4",
   "metadata": {},
   "outputs": [
    {
     "name": "stdin",
     "output_type": "stream",
     "text": [
      "enter the number : 3\n"
     ]
    },
    {
     "name": "stdout",
     "output_type": "stream",
     "text": [
      "3 prime number\n"
     ]
    }
   ],
   "source": [
    "n=int(input(\"enter the number :\"))\n",
    "if n>1:\n",
    "    for i in range(2,n):\n",
    "        if n%i == 0:\n",
    "            print(f'{n}is not prime number')\n",
    "            break\n",
    "        else:\n",
    "            print(f'{n} prime number')\n"
   ]
  },
  {
   "cell_type": "code",
   "execution_count": 16,
   "id": "dcc0f60f-3dce-46ba-9b8f-5bd83c152407",
   "metadata": {},
   "outputs": [],
   "source": [
    "#Exercise :2  Product Of Random Numbers"
   ]
  },
  {
   "cell_type": "code",
   "execution_count": 19,
   "id": "36f6d1be-fdbe-4cb6-a97e-7901b0113f77",
   "metadata": {},
   "outputs": [
    {
     "name": "stdout",
     "output_type": "stream",
     "text": [
      "what is the product of42 and 92\n"
     ]
    },
    {
     "name": "stdin",
     "output_type": "stream",
     "text": [
      "enter a number : 44\n"
     ]
    },
    {
     "name": "stdout",
     "output_type": "stream",
     "text": [
      "the correct answer is 3864\n"
     ]
    }
   ],
   "source": [
    "import random\n",
    "def maths():\n",
    "    n1=random.randint(1,100)\n",
    "    n2=random.randint(1,100)\n",
    "    print(f'what is the product of{n1} and {n2}')\n",
    "    user_input=int(input(\"enter a number :\"))\n",
    "    try:\n",
    "        if(user_input)==n1*n2:\n",
    "            print(\"correct\")\n",
    "        else:\n",
    "            print(f'the correct answer is {n1*n2}')\n",
    "    except ValueError:\n",
    "        print(\"invalid , enter number\")\n",
    "maths()\n",
    "    "
   ]
  },
  {
   "cell_type": "code",
   "execution_count": 20,
   "id": "3b9fc528-af4c-40c1-8aa3-b7f651dcf3d7",
   "metadata": {},
   "outputs": [],
   "source": [
    "#Exercise 3: Squares of Even/Odd Numbers"
   ]
  },
  {
   "cell_type": "code",
   "execution_count": 21,
   "id": "12125d1b-6f72-4322-a57e-1fd9869501db",
   "metadata": {},
   "outputs": [
    {
     "name": "stdout",
     "output_type": "stream",
     "text": [
      "100^2=10000\n",
      "102^2=10404\n",
      "104^2=10816\n",
      "106^2=11236\n",
      "108^2=11664\n",
      "110^2=12100\n",
      "112^2=12544\n",
      "114^2=12996\n",
      "116^2=13456\n",
      "118^2=13924\n",
      "120^2=14400\n",
      "122^2=14884\n",
      "124^2=15376\n",
      "126^2=15876\n",
      "128^2=16384\n",
      "130^2=16900\n",
      "132^2=17424\n",
      "134^2=17956\n",
      "136^2=18496\n",
      "138^2=19044\n",
      "140^2=19600\n",
      "142^2=20164\n",
      "144^2=20736\n",
      "146^2=21316\n",
      "148^2=21904\n",
      "150^2=22500\n",
      "152^2=23104\n",
      "154^2=23716\n",
      "156^2=24336\n",
      "158^2=24964\n",
      "160^2=25600\n",
      "162^2=26244\n",
      "164^2=26896\n",
      "166^2=27556\n",
      "168^2=28224\n",
      "170^2=28900\n",
      "172^2=29584\n",
      "174^2=30276\n",
      "176^2=30976\n",
      "178^2=31684\n",
      "180^2=32400\n",
      "182^2=33124\n",
      "184^2=33856\n",
      "186^2=34596\n",
      "188^2=35344\n",
      "190^2=36100\n",
      "192^2=36864\n",
      "194^2=37636\n",
      "196^2=38416\n",
      "198^2=39204\n",
      "200^2=40000\n"
     ]
    }
   ],
   "source": [
    "for i in range(100,201):\n",
    "    if i%2==0:\n",
    "        square=i**2\n",
    "        print(f'{i}^2={square}')\n",
    "    "
   ]
  },
  {
   "cell_type": "code",
   "execution_count": 23,
   "id": "dd534756-43fb-49c6-af7a-70b65393e8c0",
   "metadata": {},
   "outputs": [],
   "source": [
    "##Exercise 4: Problem Statement (Question): Hospital Billing System"
   ]
  },
  {
   "cell_type": "code",
   "execution_count": 26,
   "id": "7e37e626-5746-4bf3-91a6-beff87f7067e",
   "metadata": {},
   "outputs": [
    {
     "name": "stdout",
     "output_type": "stream",
     "text": [
      "the hosipital bill is :\n",
      "Room Charges(₹2000x4):₹8000\n",
      "Doctor Consultation Fee:₹1500\n",
      "Lab Test Charges(₹300x300):₹900\n",
      "Medicine Charges:₹2400\n",
      "Total Before Discount:₹12800\n",
      "Discount Applied:₹1280.0\n",
      "Final Bill Amount:₹11520.0\n"
     ]
    }
   ],
   "source": [
    "room_charge=2000\n",
    "doctor_fee=1500\n",
    "lab_test=300\n",
    "discount_threshold=10000\n",
    "discount_rate=0.10\n",
    "days_stayed=4\n",
    "total_lab_test=3\n",
    "medicine_cost=2400\n",
    "room_charges=room_charge*days_stayed\n",
    "lab_charges=lab_test*total_lab_test\n",
    "doctor_fees=doctor_fee\n",
    "total_before_discount=room_charges+doctor_fees+lab_charges+medicine_cost\n",
    "if total_before_discount>discount_threshold:\n",
    "    discount=total_before_discount*discount_rate\n",
    "else:\n",
    "    discount=0\n",
    "final_bill=total_before_discount-discount\n",
    "print(\"the hosipital bill is :\")\n",
    "print(f\"Room Charges(₹2000x{days_stayed}):₹{room_charges}\")\n",
    "print(f\"Doctor Consultation Fee:₹{doctor_fees}\")\n",
    "print(f\"Lab Test Charges(₹300x{lab_test}):₹{lab_charges}\")\n",
    "print(f\"Medicine Charges:₹{medicine_cost}\")\n",
    "print(f\"Total Before Discount:₹{total_before_discount}\")\n",
    "print(f\"Discount Applied:₹{discount}\")\n",
    "print(f\"Final Bill Amount:₹{final_bill}\")"
   ]
  },
  {
   "cell_type": "code",
   "execution_count": null,
   "id": "732bb6ca-f76f-4a52-9735-419a81848e09",
   "metadata": {},
   "outputs": [],
   "source": []
  }
 ],
 "metadata": {
  "kernelspec": {
   "display_name": "Python [conda env:base] *",
   "language": "python",
   "name": "conda-base-py"
  },
  "language_info": {
   "codemirror_mode": {
    "name": "ipython",
    "version": 3
   },
   "file_extension": ".py",
   "mimetype": "text/x-python",
   "name": "python",
   "nbconvert_exporter": "python",
   "pygments_lexer": "ipython3",
   "version": "3.13.5"
  }
 },
 "nbformat": 4,
 "nbformat_minor": 5
}
