{
 "cells": [
  {
   "cell_type": "markdown",
   "id": "863cea2d-fbce-4722-b721-65c86c2ddaa5",
   "metadata": {},
   "source": [
    "****6.1hypothesis testing****"
   ]
  },
  {
   "cell_type": "raw",
   "id": "969d6374-46ca-4666-b905-f1a30013739e",
   "metadata": {},
   "source": [
    "Data Provided:\n",
    "\n",
    "● The theoretical weekly operating cost model: W = $1,000 + $5X\n",
    "\n",
    "● Sample of 25 restaurants with a mean weekly cost of Rs. 3,050\n",
    "\n",
    "● Number of units produced in a week (X) follows a normal distribution with a mean (μ) of 600 units and a standard deviation (σ) of 25 units"
   ]
  },
  {
   "cell_type": "raw",
   "id": "953c9fd3-b7c0-4f4f-a62c-df999b48e6a0",
   "metadata": {},
   "source": [
    "null hypothesis h0: there is no change in restaurent weekly operational costs.\n",
    "alternative hypothesis ha: there is change of increasing "
   ]
  },
  {
   "cell_type": "code",
   "execution_count": 2,
   "id": "ba71dac6-973c-4d58-aff9-3abf456d7379",
   "metadata": {},
   "outputs": [],
   "source": [
    "#Calculate the Test Statistic:\n",
    "import numpy as np"
   ]
  },
  {
   "cell_type": "code",
   "execution_count": 3,
   "id": "7ae77438-4b2e-4b88-b3ab-c5790302422b",
   "metadata": {},
   "outputs": [],
   "source": [
    "sample_mean=3050\n",
    "x=600\n",
    "pop_mean=1000+5*x\n",
    "std_dev=5*25#standard deviation\n",
    "sample_size=25"
   ]
  },
  {
   "cell_type": "code",
   "execution_count": 4,
   "id": "11a1a133-aea8-4eb9-829a-da658745d9a2",
   "metadata": {},
   "outputs": [],
   "source": [
    "#alpha level of 5% (α = 0.05"
   ]
  },
  {
   "cell_type": "code",
   "execution_count": 5,
   "id": "b6b4167e-20a0-458a-83b1-ac2b9226cb04",
   "metadata": {},
   "outputs": [],
   "source": [
    "z=(sample_mean-pop_mean)/(std_dev/np.sqrt(sample_size))"
   ]
  },
  {
   "cell_type": "code",
   "execution_count": 6,
   "id": "dfbf2a63-e154-40ca-b5d4-3995ac09e01a",
   "metadata": {},
   "outputs": [
    {
     "data": {
      "text/plain": [
       "np.float64(-38.0)"
      ]
     },
     "execution_count": 6,
     "metadata": {},
     "output_type": "execute_result"
    }
   ],
   "source": [
    "z"
   ]
  },
  {
   "cell_type": "code",
   "execution_count": 7,
   "id": "c11fc7ab-bb22-49db-898b-f49372ebe591",
   "metadata": {},
   "outputs": [],
   "source": [
    "#Determine the Critical Value:"
   ]
  },
  {
   "cell_type": "code",
   "execution_count": 8,
   "id": "f2aa4139-cca2-4c01-ade4-7ac002c94d11",
   "metadata": {},
   "outputs": [],
   "source": [
    "from scipy.stats import norm\n",
    "import scipy.stats as stats\n",
    "critical_value=stats.norm.ppf(0.95)"
   ]
  },
  {
   "cell_type": "code",
   "execution_count": 9,
   "id": "66ba1e0b-e076-4507-a4b5-56b8e2ae89ca",
   "metadata": {},
   "outputs": [
    {
     "data": {
      "text/plain": [
       "np.float64(1.6448536269514722)"
      ]
     },
     "execution_count": 9,
     "metadata": {},
     "output_type": "execute_result"
    }
   ],
   "source": [
    "critical_value"
   ]
  },
  {
   "cell_type": "code",
   "execution_count": 10,
   "id": "9daeeabe-8ead-4b13-8787-6c7076f8378c",
   "metadata": {},
   "outputs": [],
   "source": [
    "#Make a Decision:"
   ]
  },
  {
   "cell_type": "code",
   "execution_count": 11,
   "id": "c3ff6f35-04f6-4bf3-b4bb-14b73fce68e8",
   "metadata": {},
   "outputs": [
    {
     "name": "stdout",
     "output_type": "stream",
     "text": [
      "reject null hypothesis\n"
     ]
    }
   ],
   "source": [
    "if z>critical_value:\n",
    "    print(\"accept null hypothesis\")\n",
    "else:\n",
    "    print(\"reject null hypothesis\")"
   ]
  },
  {
   "cell_type": "raw",
   "id": "077d3274-d8e1-4ff6-9d94-a487e01dc48c",
   "metadata": {},
   "source": [
    "Conclusion:\n",
    "From the Hypothesis Testing We accept the Null Hypothesis. So,The restaurent owner does not claim the weekly operating costs are higher than the model suggests."
   ]
  },
  {
   "cell_type": "markdown",
   "id": "8277a41a-1aab-4e31-b654-8f0d7bb25091",
   "metadata": {},
   "source": [
    "**6.2 ESTIMATION AND CONFIDENCE INTERVAl**"
   ]
  },
  {
   "cell_type": "raw",
   "id": "38091c38-bfbd-4c31-9b1c-a79a78ad32e2",
   "metadata": {
    "scrolled": true
   },
   "source": [
    "Data\n",
    "\n",
    "A total of 15 print-heads were randomly selected and tested until failure. The durability of each print-head (in millions of characters) was recorded as follows:\n",
    "\n",
    "1.13, 1.55, 1.43, 0.92, 1.25, 1.36, 1.32, 0.85, 1.07, 1.48, 1.20, 1.33, 1.18, 1.22, 1.29"
   ]
  },
  {
   "cell_type": "code",
   "execution_count": 18,
   "id": "741405b8-435c-46a6-bfe5-e3566f14bb5a",
   "metadata": {},
   "outputs": [],
   "source": [
    "#Part (a): 99% Confidence Interval Using Sample Standard Deviation\n",
    "\n",
    "import numpy as np\n",
    "from scipy.stats import norm\n"
   ]
  },
  {
   "cell_type": "code",
   "execution_count": 35,
   "id": "34678dbf-18c9-46e5-abac-5d0c282f6f3f",
   "metadata": {},
   "outputs": [],
   "source": [
    "data=np.array([1.13, 1.55, 1.43, 0.92, 1.25, 1.36, 1.32, 0.85, 1.07, 1.48, 1.20, 1.33, 1.18, 1.22, 1.29])\n",
    "sample_size=len(data)\n",
    "mean=np.mean(data)\n",
    "sample_std=np.std(data)\n",
    "fails=sample_std/np.sqrt(sample_size)\n",
    "z_critical = norm.ppf(0.995)\n",
    "lower=mean-z_critical*fails\n",
    "upper=mean+z_critical*fails\n"
   ]
  },
  {
   "cell_type": "code",
   "execution_count": 36,
   "id": "dce249f6-223d-4158-b07b-8af119650155",
   "metadata": {},
   "outputs": [
    {
     "data": {
      "text/plain": [
       "np.float64(1.1145539391646546)"
      ]
     },
     "execution_count": 36,
     "metadata": {},
     "output_type": "execute_result"
    }
   ],
   "source": [
    "lower"
   ]
  },
  {
   "cell_type": "code",
   "execution_count": 37,
   "id": "0477a536-8c1e-4b72-98c1-c80e3154e2b6",
   "metadata": {},
   "outputs": [
    {
     "data": {
      "text/plain": [
       "np.float64(1.3627793941686785)"
      ]
     },
     "execution_count": 37,
     "metadata": {},
     "output_type": "execute_result"
    }
   ],
   "source": [
    "upper"
   ]
  },
  {
   "cell_type": "code",
   "execution_count": 38,
   "id": "3802248e-87e3-44eb-98e7-e1399bf532e6",
   "metadata": {},
   "outputs": [],
   "source": [
    "#Part (b): 99% Confidence Interval Using Known Population Standard Deviation"
   ]
  },
  {
   "cell_type": "code",
   "execution_count": 39,
   "id": "d71aef08-fea8-44d4-bd2b-c14448d61eff",
   "metadata": {},
   "outputs": [],
   "source": [
    "from scipy.stats import norm"
   ]
  },
  {
   "cell_type": "code",
   "execution_count": null,
   "id": "1ebd3a86-dcf2-4331-97c4-a928882a6e01",
   "metadata": {},
   "outputs": [],
   "source": [
    "pop_std_dev=0.2\n",
    "z_critical=norm.ppf(0.995)\n",
    "lower=mean-z_critical*(pop_std/np.sqrt(n))\n",
    "upper=mean+z_critical*(pop_std/np.sqrt(n))\n",
    "\n"
   ]
  },
  {
   "cell_type": "code",
   "execution_count": 40,
   "id": "89e10244-dff2-482b-8af7-60f06ccfcea0",
   "metadata": {},
   "outputs": [
    {
     "data": {
      "text/plain": [
       "np.float64(1.1145539391646546)"
      ]
     },
     "execution_count": 40,
     "metadata": {},
     "output_type": "execute_result"
    }
   ],
   "source": [
    "lower"
   ]
  },
  {
   "cell_type": "code",
   "execution_count": 41,
   "id": "efb8374e-16bd-4d10-9872-3bd59b189d58",
   "metadata": {},
   "outputs": [
    {
     "data": {
      "text/plain": [
       "np.float64(1.3627793941686785)"
      ]
     },
     "execution_count": 41,
     "metadata": {},
     "output_type": "execute_result"
    }
   ],
   "source": [
    "upper"
   ]
  },
  {
   "cell_type": "code",
   "execution_count": null,
   "id": "2e0da540-8c74-4444-a335-9672a56f217b",
   "metadata": {},
   "outputs": [],
   "source": []
  }
 ],
 "metadata": {
  "kernelspec": {
   "display_name": "Python [conda env:base] *",
   "language": "python",
   "name": "conda-base-py"
  },
  "language_info": {
   "codemirror_mode": {
    "name": "ipython",
    "version": 3
   },
   "file_extension": ".py",
   "mimetype": "text/x-python",
   "name": "python",
   "nbconvert_exporter": "python",
   "pygments_lexer": "ipython3",
   "version": "3.13.5"
  }
 },
 "nbformat": 4,
 "nbformat_minor": 5
}
