{
 "cells": [
  {
   "cell_type": "code",
   "execution_count": 1,
   "id": "f12642b9-a5b6-4c89-ac08-93a7566851c0",
   "metadata": {},
   "outputs": [],
   "source": [
    "###Section A: Data Structures & Control Structures"
   ]
  },
  {
   "cell_type": "code",
   "execution_count": 3,
   "id": "cf116a45-b643-49d5-8fd0-6c01a51f6e1a",
   "metadata": {},
   "outputs": [],
   "source": [
    "#1.Create a list of 5 integers. Perform and print the result of the following operations:append, extend, insert, remove, pop, clear, index, count, sort, and reverse."
   ]
  },
  {
   "cell_type": "code",
   "execution_count": 28,
   "id": "5d814fc4-75f5-4b6b-8c80-a3a39dfcb0b3",
   "metadata": {},
   "outputs": [
    {
     "data": {
      "text/plain": [
       "[1, 2, 3, 4, 5]"
      ]
     },
     "execution_count": 28,
     "metadata": {},
     "output_type": "execute_result"
    }
   ],
   "source": [
    "list1=[1,2,3,4,5]\n",
    "list1"
   ]
  },
  {
   "cell_type": "code",
   "execution_count": 29,
   "id": "70f30ddf-95fb-4e11-a551-3a9f074a3816",
   "metadata": {},
   "outputs": [
    {
     "data": {
      "text/plain": [
       "[1, 2, 3, 4, 5, 6]"
      ]
     },
     "execution_count": 29,
     "metadata": {},
     "output_type": "execute_result"
    }
   ],
   "source": [
    "# append\n",
    "list1.append(6)\n",
    "list1"
   ]
  },
  {
   "cell_type": "code",
   "execution_count": 30,
   "id": "5ac99f97-a209-4c1b-9005-7d6f1a643a3a",
   "metadata": {},
   "outputs": [
    {
     "data": {
      "text/plain": [
       "[1, 2, 3, 4, 5, 6, 7, 8]"
      ]
     },
     "execution_count": 30,
     "metadata": {},
     "output_type": "execute_result"
    }
   ],
   "source": [
    "#extend\n",
    "list1.extend([7,8])\n",
    "list1"
   ]
  },
  {
   "cell_type": "code",
   "execution_count": 31,
   "id": "c6d219af-adf1-445b-966d-7a92dd233460",
   "metadata": {},
   "outputs": [
    {
     "data": {
      "text/plain": [
       "[1, 2, 3, 2, 4, 5, 6, 7, 8]"
      ]
     },
     "execution_count": 31,
     "metadata": {},
     "output_type": "execute_result"
    }
   ],
   "source": [
    "# insert\n",
    "list1.insert(3,2)\n",
    "list1"
   ]
  },
  {
   "cell_type": "code",
   "execution_count": 32,
   "id": "6000b364-0a6d-461d-815d-050bd4f27bf1",
   "metadata": {},
   "outputs": [
    {
     "data": {
      "text/plain": [
       "[1, 2, 2, 4, 5, 6, 7, 8]"
      ]
     },
     "execution_count": 32,
     "metadata": {},
     "output_type": "execute_result"
    }
   ],
   "source": [
    "# remove\n",
    "list1.remove(3)\n",
    "list1"
   ]
  },
  {
   "cell_type": "code",
   "execution_count": 34,
   "id": "2c7fd8b9-c2af-4a70-ac90-e904ec48f375",
   "metadata": {},
   "outputs": [
    {
     "data": {
      "text/plain": [
       "[1, 2, 2, 4, 5, 6, 7]"
      ]
     },
     "execution_count": 34,
     "metadata": {},
     "output_type": "execute_result"
    }
   ],
   "source": [
    "# pop\n",
    "list1.pop(7)\n",
    "list1"
   ]
  },
  {
   "cell_type": "code",
   "execution_count": 35,
   "id": "fd25346b-feb2-4095-8591-4a08cfac69f9",
   "metadata": {},
   "outputs": [
    {
     "data": {
      "text/plain": [
       "[]"
      ]
     },
     "execution_count": 35,
     "metadata": {},
     "output_type": "execute_result"
    }
   ],
   "source": [
    "# clear\n",
    "list1.clear()\n",
    "list1"
   ]
  },
  {
   "cell_type": "code",
   "execution_count": 50,
   "id": "7d97bcc9-b2ed-4c39-873a-08d9fa51a883",
   "metadata": {},
   "outputs": [
    {
     "data": {
      "text/plain": [
       "1"
      ]
     },
     "execution_count": 50,
     "metadata": {},
     "output_type": "execute_result"
    }
   ],
   "source": [
    "# index\n",
    "list2=[1,4,6,5,10]\n",
    "list2.index(4)"
   ]
  },
  {
   "cell_type": "code",
   "execution_count": 51,
   "id": "79f5d4b7-07cf-4ddd-b39a-38214ad66abe",
   "metadata": {},
   "outputs": [
    {
     "data": {
      "text/plain": [
       "1"
      ]
     },
     "execution_count": 51,
     "metadata": {},
     "output_type": "execute_result"
    }
   ],
   "source": [
    "#count\n",
    "list2.count(6)"
   ]
  },
  {
   "cell_type": "code",
   "execution_count": 52,
   "id": "3c796cf8-1384-4e99-890f-a07f428082ce",
   "metadata": {},
   "outputs": [
    {
     "data": {
      "text/plain": [
       "[1, 4, 5, 6, 10]"
      ]
     },
     "execution_count": 52,
     "metadata": {},
     "output_type": "execute_result"
    }
   ],
   "source": [
    "list2.sort()\n",
    "list2"
   ]
  },
  {
   "cell_type": "code",
   "execution_count": 54,
   "id": "78b34437-7f33-4d6c-808c-370721c10be0",
   "metadata": {},
   "outputs": [
    {
     "data": {
      "text/plain": [
       "[10, 6, 5, 4, 1]"
      ]
     },
     "execution_count": 54,
     "metadata": {},
     "output_type": "execute_result"
    }
   ],
   "source": [
    "# reverse\n",
    "list2.reverse()\n",
    "list2"
   ]
  },
  {
   "cell_type": "code",
   "execution_count": 55,
   "id": "e17da483-9c45-4acf-8c21-4b16f09fd44a",
   "metadata": {},
   "outputs": [],
   "source": [
    "### 2. Create a tuple that stores 3 student names. Try changing the second name in the tuple. What happens? Explain why."
   ]
  },
  {
   "cell_type": "code",
   "execution_count": 56,
   "id": "88936bec-e66c-4c39-8711-953341d5f6c8",
   "metadata": {},
   "outputs": [],
   "source": [
    "# Create a tuple\n",
    "t1=('koushik','sai','mani')"
   ]
  },
  {
   "cell_type": "code",
   "execution_count": null,
   "id": "1a9e2dd4-c38b-4bc1-8dc0-1dfc28af3b4d",
   "metadata": {},
   "outputs": [],
   "source": [
    "# trying to change second name in tuple\n",
    "try:\n",
    "  t1[1] = 'chenna'\n",
    "except TypeError as e:\n",
    "  print(e)"
   ]
  },
  {
   "cell_type": "code",
   "execution_count": 71,
   "id": "3cd8da19-465f-48a4-ab11-b738df595fc5",
   "metadata": {},
   "outputs": [
    {
     "data": {
      "text/plain": [
       "\"Since tuple is immutable.we can't assign a new value to a tuple which is already presented.\""
      ]
     },
     "execution_count": 71,
     "metadata": {},
     "output_type": "execute_result"
    }
   ],
   "source": [
    "'''Since tuple is immutable.we can't assign a new value to a tuple which is already presented.'''"
   ]
  },
  {
   "cell_type": "code",
   "execution_count": 72,
   "id": "908395fb-2b1c-4dd5-a431-e54225c9d4c3",
   "metadata": {},
   "outputs": [],
   "source": [
    "#3.Create a set of integers with some duplicate values. Print the set and explain the output."
   ]
  },
  {
   "cell_type": "code",
   "execution_count": 73,
   "id": "e1f6fe54-f392-42d8-9369-3dc9ec40a6a9",
   "metadata": {},
   "outputs": [
    {
     "name": "stdout",
     "output_type": "stream",
     "text": [
      "{1, 2, 3, 4, 5, 6, 7, 9}\n"
     ]
    }
   ],
   "source": [
    "set={1,2,2,3,3,4,4,5,6,6,9,9,7,7}\n",
    "print(set)"
   ]
  },
  {
   "cell_type": "code",
   "execution_count": 75,
   "id": "dfdedfe1-b182-44e5-8dba-0d07701a2d29",
   "metadata": {},
   "outputs": [
    {
     "data": {
      "text/plain": [
       "'explaining: in set duplicates are removed and only unique elements will be presented in set'"
      ]
     },
     "execution_count": 75,
     "metadata": {},
     "output_type": "execute_result"
    }
   ],
   "source": [
    "'''explaining: in set duplicates are removed and only unique elements will be presented in set'''"
   ]
  },
  {
   "cell_type": "code",
   "execution_count": 76,
   "id": "c1c427e4-d4e1-41b7-bcbf-9c19696195c9",
   "metadata": {},
   "outputs": [],
   "source": [
    "#4.Create a dictionary with the keys: 'name', 'age', and 'city'. Update the age and add a new key 'email'. Print the final dictionary."
   ]
  },
  {
   "cell_type": "code",
   "execution_count": 77,
   "id": "d0e83ec2-2f33-45a8-80c7-71777fffeabf",
   "metadata": {},
   "outputs": [],
   "source": [
    "dict1={'Names':['koushik','sai','mani'],'age':[22,21,24],'city':['ap','hyderabad','bangalore']}"
   ]
  },
  {
   "cell_type": "code",
   "execution_count": 78,
   "id": "a091a3c3-ce7f-44af-9435-b098b73f1f51",
   "metadata": {},
   "outputs": [
    {
     "data": {
      "text/plain": [
       "{'Names': ['koushik', 'sai', 'mani'],\n",
       " 'age': [22, 21, 24],\n",
       " 'city': ['ap', 'hyderabad', 'bangalore']}"
      ]
     },
     "execution_count": 78,
     "metadata": {},
     "output_type": "execute_result"
    }
   ],
   "source": [
    "dict1"
   ]
  },
  {
   "cell_type": "code",
   "execution_count": 79,
   "id": "0790be4c-a267-46e6-bff5-b32157a21a1e",
   "metadata": {},
   "outputs": [
    {
     "data": {
      "text/plain": [
       "{'Names': ['koushik', 'sai', 'mani'],\n",
       " 'age': [23, 24, 25],\n",
       " 'city': ['ap', 'hyderabad', 'bangalore']}"
      ]
     },
     "execution_count": 79,
     "metadata": {},
     "output_type": "execute_result"
    }
   ],
   "source": [
    "# uptading the age\n",
    "dict1['age']=[23,24,25]\n",
    "dict1"
   ]
  },
  {
   "cell_type": "code",
   "execution_count": 80,
   "id": "d2fd2520-3840-41bf-8fbd-d7ffc911b53d",
   "metadata": {},
   "outputs": [
    {
     "data": {
      "text/plain": [
       "{'Names': ['koushik', 'sai', 'mani'],\n",
       " 'age': [23, 24, 25],\n",
       " 'city': ['ap', 'hyderabad', 'bangalore'],\n",
       " 'email': ['koushiky@gmail.com', 'sai@gmail.com', 'mani@gmail.com']}"
      ]
     },
     "execution_count": 80,
     "metadata": {},
     "output_type": "execute_result"
    }
   ],
   "source": [
    "# Adding a new key 'email'\n",
    "dict1['email']=['koushiky@gmail.com','sai@gmail.com','mani@gmail.com']\n",
    "dict1"
   ]
  },
  {
   "cell_type": "code",
   "execution_count": 81,
   "id": "81d0c488-5628-45c0-96ba-e865a4aa7101",
   "metadata": {},
   "outputs": [
    {
     "data": {
      "text/plain": [
       "{'Names': ['koushik', 'sai', 'mani'],\n",
       " 'age': [23, 24, 25],\n",
       " 'city': ['ap', 'hyderabad', 'bangalore'],\n",
       " 'email': ['koushiky@gmail.com', 'sai@gmail.com', 'mani@gmail.com']}"
      ]
     },
     "execution_count": 81,
     "metadata": {},
     "output_type": "execute_result"
    }
   ],
   "source": [
    "# Final Dictionary\n",
    "dict1"
   ]
  },
  {
   "cell_type": "code",
   "execution_count": null,
   "id": "28ee070b-6b3c-41ea-9a09-dff0b388c313",
   "metadata": {},
   "outputs": [],
   "source": [
    "#Write a script that checks if a person is eligible to vote (age ≥ 18). Take age as a variable and print the appropriate message."
   ]
  },
  {
   "cell_type": "code",
   "execution_count": 88,
   "id": "4dd54c48-4366-469a-ad82-b37c6e7c62ab",
   "metadata": {},
   "outputs": [
    {
     "name": "stdin",
     "output_type": "stream",
     "text": [
      "enter your age : 16\n"
     ]
    },
    {
     "name": "stdout",
     "output_type": "stream",
     "text": [
      "you cannot vote since your age is :  16\n"
     ]
    }
   ],
   "source": [
    "def vote_eligibility(age):\n",
    "    if age>=18:\n",
    "        print(\"you can vote\")\n",
    "    else:\n",
    "        print(\"you cannot vote since your age is : \" ,age)\n",
    "age=int(input(\"enter your age :\"))\n",
    "vote_eligibility(age)"
   ]
  },
  {
   "cell_type": "code",
   "execution_count": 93,
   "id": "c8300d72-bac8-4b23-bcac-c8d7b6373f8f",
   "metadata": {},
   "outputs": [
    {
     "data": {
      "text/plain": [
       "\" 6 .Given a 'marks' variable, print the grade:\\n90 and above: 'A'\\n75–89: 'B'\\n50–74: 'C'\\nBelow 50: 'Fail\""
      ]
     },
     "execution_count": 93,
     "metadata": {},
     "output_type": "execute_result"
    }
   ],
   "source": [
    "''' 6 .Given a 'marks' variable, print the grade:\n",
    "90 and above: 'A'\n",
    "75–89: 'B'\n",
    "50–74: 'C'\n",
    "Below 50: 'Fail'''"
   ]
  },
  {
   "cell_type": "code",
   "execution_count": 94,
   "id": "0efdcff1-903b-4d69-9f6f-31672c348c1a",
   "metadata": {},
   "outputs": [
    {
     "name": "stdin",
     "output_type": "stream",
     "text": [
      "Enter your marks:  90\n"
     ]
    },
    {
     "name": "stdout",
     "output_type": "stream",
     "text": [
      " your grade is A\n"
     ]
    }
   ],
   "source": [
    "def grade(marks):\n",
    "    if marks>=90:\n",
    "        print(\" your grade is A\")\n",
    "    elif marks>=75 and marks<=89:\n",
    "        print(\"Your grade is B\")\n",
    "    elif marks>=50 and marks<=74:\n",
    "        print(\"Your grade is C\")\n",
    "    else:\n",
    "        print(\"You are Fail\")\n",
    "marks=int(input(\"Enter your marks: \"))\n",
    "grade(marks)\n",
    "    "
   ]
  },
  {
   "cell_type": "code",
   "execution_count": null,
   "id": "626738fd-f17c-40d3-81c8-920a164449b0",
   "metadata": {},
   "outputs": [],
   "source": [
    "# 7.Given a number, check if it's positive, and if it is also even. If not positive, print if it's zero or negative."
   ]
  },
  {
   "cell_type": "code",
   "execution_count": 96,
   "id": "c323d7c7-7b1a-45d0-ac14-8ad8ecc87abb",
   "metadata": {},
   "outputs": [
    {
     "name": "stdin",
     "output_type": "stream",
     "text": [
      "enter a number : 4\n"
     ]
    },
    {
     "name": "stdout",
     "output_type": "stream",
     "text": [
      " it is positive and even number .\n"
     ]
    }
   ],
   "source": [
    "def number(n):\n",
    "    if n>0:\n",
    "        if n%2==0:\n",
    "            print(' it is positive and even number .')\n",
    "        else:\n",
    "            print(' it is positive and odd number.')\n",
    "    elif n==0:\n",
    "        print('it is zero.')\n",
    "    else:\n",
    "        print('it is a negitive number.')\n",
    "n=int(input('enter a number :'))\n",
    "number(n)\n",
    "        "
   ]
  },
  {
   "cell_type": "code",
   "execution_count": 98,
   "id": "4cf23614-dfdd-4dea-ac28-7d7aa47ef72b",
   "metadata": {},
   "outputs": [],
   "source": [
    "#section b : numpy \n"
   ]
  },
  {
   "cell_type": "code",
   "execution_count": 99,
   "id": "a9bab5f7-3ddd-40bc-b5b4-cc96343230c1",
   "metadata": {},
   "outputs": [
    {
     "data": {
      "text/plain": [
       "' 8.Create:\\nA scalar using np.array(5)\\nA 1D array with values 1 to 5\\nA 2D array (2x3) with values from 10 to 60 in steps of 10'"
      ]
     },
     "execution_count": 99,
     "metadata": {},
     "output_type": "execute_result"
    }
   ],
   "source": [
    "''' 8.Create:\n",
    "A scalar using np.array(5)\n",
    "A 1D array with values 1 to 5\n",
    "A 2D array (2x3) with values from 10 to 60 in steps of 10'''"
   ]
  },
  {
   "cell_type": "code",
   "execution_count": 101,
   "id": "f8806abc-4057-47ef-94e8-f548bd08170c",
   "metadata": {},
   "outputs": [
    {
     "name": "stdout",
     "output_type": "stream",
     "text": [
      "Scalar:\n",
      "5\n"
     ]
    }
   ],
   "source": [
    "#A scalar using np.array(5)\n",
    "import numpy as np\n",
    "scalar = np.array(5)\n",
    "print(\"Scalar:\")\n",
    "print(scalar)"
   ]
  },
  {
   "cell_type": "code",
   "execution_count": 102,
   "id": "46651a61-47ee-4c8c-9b2f-c1d93ac73577",
   "metadata": {},
   "outputs": [
    {
     "data": {
      "text/plain": [
       "array([1, 2, 3, 4, 5])"
      ]
     },
     "execution_count": 102,
     "metadata": {},
     "output_type": "execute_result"
    }
   ],
   "source": [
    "# A 1D array with values 1 to 5\n",
    "one_dim=np.array([1,2,3,4,5])\n",
    "one_dim"
   ]
  },
  {
   "cell_type": "code",
   "execution_count": 103,
   "id": "15bbc9e3-1bcf-4fb5-80af-2f476d6ec47d",
   "metadata": {},
   "outputs": [
    {
     "data": {
      "text/plain": [
       "array([[10, 20, 30],\n",
       "       [40, 50, 60]])"
      ]
     },
     "execution_count": 103,
     "metadata": {},
     "output_type": "execute_result"
    }
   ],
   "source": [
    "# A 2D array (2x3) with values from 10 to 60 in steps of 10\n",
    "two_dim=np.array([[10, 20, 30], [40, 50, 60]])\n",
    "two_dim"
   ]
  },
  {
   "cell_type": "code",
   "execution_count": null,
   "id": "8a25d7de-bde8-4a71-971c-dffb92e8acce",
   "metadata": {},
   "outputs": [],
   "source": [
    "#9.Generate a 4x4 Numpy array of random integers between 0 and 100 using np.random.randint()."
   ]
  },
  {
   "cell_type": "code",
   "execution_count": 107,
   "id": "3460ea54-b171-4a40-91be-e287c93b76db",
   "metadata": {},
   "outputs": [
    {
     "data": {
      "text/plain": [
       "array([[16, 89, 60, 57],\n",
       "       [34, 54, 77,  0],\n",
       "       [55, 19, 27, 27],\n",
       "       [10, 86, 82, 79]], dtype=int32)"
      ]
     },
     "execution_count": 107,
     "metadata": {},
     "output_type": "execute_result"
    }
   ],
   "source": [
    "k=np.random.randint(0,100,16).reshape(4,4)\n",
    "k"
   ]
  },
  {
   "cell_type": "code",
   "execution_count": null,
   "id": "ea332eec-6cac-425d-b21f-884d077eacf3",
   "metadata": {},
   "outputs": [],
   "source": [
    "#10.Create a 2D numpy array of shape (3x3). Convert it into a pandas DataFrame and add column names: 'A', 'B', 'C'."
   ]
  },
  {
   "cell_type": "code",
   "execution_count": 108,
   "id": "831f0171-b6c2-4d00-8539-d1a012ff9efd",
   "metadata": {},
   "outputs": [
    {
     "data": {
      "text/plain": [
       "array([[ 1,  3,  6],\n",
       "       [ 9, 11, 15],\n",
       "       [18, 20, 21]])"
      ]
     },
     "execution_count": 108,
     "metadata": {},
     "output_type": "execute_result"
    }
   ],
   "source": [
    "two_dim= np.array([[1,3,6],[9,11,15],[18,20,21]])\n",
    "two_dim"
   ]
  },
  {
   "cell_type": "code",
   "execution_count": 109,
   "id": "5a3267d8-4c33-425b-b1fe-1ff48f75b5ee",
   "metadata": {},
   "outputs": [],
   "source": [
    "# Converting 2D into a Pandas DataFrame and adding column names:'A','B','C'."
   ]
  },
  {
   "cell_type": "code",
   "execution_count": 111,
   "id": "d6ccce10-1ad6-49dd-93fa-4202d3d547b9",
   "metadata": {},
   "outputs": [
    {
     "data": {
      "text/html": [
       "<div>\n",
       "<style scoped>\n",
       "    .dataframe tbody tr th:only-of-type {\n",
       "        vertical-align: middle;\n",
       "    }\n",
       "\n",
       "    .dataframe tbody tr th {\n",
       "        vertical-align: top;\n",
       "    }\n",
       "\n",
       "    .dataframe thead th {\n",
       "        text-align: right;\n",
       "    }\n",
       "</style>\n",
       "<table border=\"1\" class=\"dataframe\">\n",
       "  <thead>\n",
       "    <tr style=\"text-align: right;\">\n",
       "      <th></th>\n",
       "      <th>A</th>\n",
       "      <th>B</th>\n",
       "      <th>C</th>\n",
       "    </tr>\n",
       "  </thead>\n",
       "  <tbody>\n",
       "    <tr>\n",
       "      <th>0</th>\n",
       "      <td>1</td>\n",
       "      <td>3</td>\n",
       "      <td>6</td>\n",
       "    </tr>\n",
       "    <tr>\n",
       "      <th>1</th>\n",
       "      <td>9</td>\n",
       "      <td>11</td>\n",
       "      <td>15</td>\n",
       "    </tr>\n",
       "    <tr>\n",
       "      <th>2</th>\n",
       "      <td>18</td>\n",
       "      <td>20</td>\n",
       "      <td>21</td>\n",
       "    </tr>\n",
       "  </tbody>\n",
       "</table>\n",
       "</div>"
      ],
      "text/plain": [
       "    A   B   C\n",
       "0   1   3   6\n",
       "1   9  11  15\n",
       "2  18  20  21"
      ]
     },
     "execution_count": 111,
     "metadata": {},
     "output_type": "execute_result"
    }
   ],
   "source": [
    "import pandas as pd\n",
    "df=pd.DataFrame(two_dim,columns=['A','B','C'])\n",
    "df"
   ]
  },
  {
   "cell_type": "code",
   "execution_count": 113,
   "id": "2659f82d-a981-4d65-a3a1-592772a4b3e4",
   "metadata": {},
   "outputs": [],
   "source": [
    "#Section C: Exploring Panda"
   ]
  },
  {
   "cell_type": "code",
   "execution_count": 114,
   "id": "494d7fef-90e2-4f56-bb7b-364938fa09bb",
   "metadata": {},
   "outputs": [
    {
     "data": {
      "text/plain": [
       "\" 11 .Create a small DataFrame manually with 10 rows and columns: 'Name', 'Age', 'City', and 'Salary'. Then:\\nUse .info(), .describe()\\nSelect 'Name' and 'City' columns\\nDrop 'City' column\\nFill any missing values in 'Salary' column with the mean\\nRemove any duplicate rows\""
      ]
     },
     "execution_count": 114,
     "metadata": {},
     "output_type": "execute_result"
    }
   ],
   "source": [
    "''' 11 .Create a small DataFrame manually with 10 rows and columns: 'Name', 'Age', 'City', and 'Salary'. Then:\n",
    "Use .info(), .describe()\n",
    "Select 'Name' and 'City' columns\n",
    "Drop 'City' column\n",
    "Fill any missing values in 'Salary' column with the mean\n",
    "Remove any duplicate rows'''"
   ]
  },
  {
   "cell_type": "code",
   "execution_count": 115,
   "id": "0bb7e8da-5e7e-4e70-b436-a9ff914e0f2f",
   "metadata": {},
   "outputs": [],
   "source": [
    "# Create a small DataFrame manually with 10 rows and columns: 'Name', 'Age', 'City', and 'Salary'.\n",
    "df= {'Name': ['koushik', 'sai', 'mani', 'deva', 'parthiban', 'kabir', 'Babu', 'rajini', 'surya', 'nani'],\n",
    "    'Age': [28, 24, 35, 32, 24, 24, 40, 29, 33, 30],\n",
    "    'City': ['tirupathi', 'mumbai', 'delhi', 'vellore', 'kashmir', 'Pune', 'vijayawada', 'kerala', 'chennai', 'ongole'],\n",
    "    'Salary': [70000, 80000, 55000, 75000, 64000, 60000, 72000, 62000, 68000, 59000]}"
   ]
  },
  {
   "cell_type": "code",
   "execution_count": 118,
   "id": "69ca302e-a753-4064-9e0d-637b82dc8e37",
   "metadata": {},
   "outputs": [
    {
     "data": {
      "text/html": [
       "<div>\n",
       "<style scoped>\n",
       "    .dataframe tbody tr th:only-of-type {\n",
       "        vertical-align: middle;\n",
       "    }\n",
       "\n",
       "    .dataframe tbody tr th {\n",
       "        vertical-align: top;\n",
       "    }\n",
       "\n",
       "    .dataframe thead th {\n",
       "        text-align: right;\n",
       "    }\n",
       "</style>\n",
       "<table border=\"1\" class=\"dataframe\">\n",
       "  <thead>\n",
       "    <tr style=\"text-align: right;\">\n",
       "      <th></th>\n",
       "      <th>Name</th>\n",
       "      <th>Age</th>\n",
       "      <th>City</th>\n",
       "      <th>Salary</th>\n",
       "    </tr>\n",
       "  </thead>\n",
       "  <tbody>\n",
       "    <tr>\n",
       "      <th>0</th>\n",
       "      <td>koushik</td>\n",
       "      <td>28</td>\n",
       "      <td>tirupathi</td>\n",
       "      <td>70000</td>\n",
       "    </tr>\n",
       "    <tr>\n",
       "      <th>1</th>\n",
       "      <td>sai</td>\n",
       "      <td>24</td>\n",
       "      <td>mumbai</td>\n",
       "      <td>80000</td>\n",
       "    </tr>\n",
       "    <tr>\n",
       "      <th>2</th>\n",
       "      <td>mani</td>\n",
       "      <td>35</td>\n",
       "      <td>delhi</td>\n",
       "      <td>55000</td>\n",
       "    </tr>\n",
       "    <tr>\n",
       "      <th>3</th>\n",
       "      <td>deva</td>\n",
       "      <td>32</td>\n",
       "      <td>vellore</td>\n",
       "      <td>75000</td>\n",
       "    </tr>\n",
       "    <tr>\n",
       "      <th>4</th>\n",
       "      <td>parthiban</td>\n",
       "      <td>24</td>\n",
       "      <td>kashmir</td>\n",
       "      <td>64000</td>\n",
       "    </tr>\n",
       "    <tr>\n",
       "      <th>5</th>\n",
       "      <td>kabir</td>\n",
       "      <td>24</td>\n",
       "      <td>Pune</td>\n",
       "      <td>60000</td>\n",
       "    </tr>\n",
       "    <tr>\n",
       "      <th>6</th>\n",
       "      <td>Babu</td>\n",
       "      <td>40</td>\n",
       "      <td>vijayawada</td>\n",
       "      <td>72000</td>\n",
       "    </tr>\n",
       "    <tr>\n",
       "      <th>7</th>\n",
       "      <td>rajini</td>\n",
       "      <td>29</td>\n",
       "      <td>kerala</td>\n",
       "      <td>62000</td>\n",
       "    </tr>\n",
       "    <tr>\n",
       "      <th>8</th>\n",
       "      <td>surya</td>\n",
       "      <td>33</td>\n",
       "      <td>chennai</td>\n",
       "      <td>68000</td>\n",
       "    </tr>\n",
       "    <tr>\n",
       "      <th>9</th>\n",
       "      <td>nani</td>\n",
       "      <td>30</td>\n",
       "      <td>ongole</td>\n",
       "      <td>59000</td>\n",
       "    </tr>\n",
       "  </tbody>\n",
       "</table>\n",
       "</div>"
      ],
      "text/plain": [
       "        Name  Age        City  Salary\n",
       "0    koushik   28   tirupathi   70000\n",
       "1        sai   24      mumbai   80000\n",
       "2       mani   35       delhi   55000\n",
       "3       deva   32     vellore   75000\n",
       "4  parthiban   24     kashmir   64000\n",
       "5      kabir   24        Pune   60000\n",
       "6       Babu   40  vijayawada   72000\n",
       "7     rajini   29      kerala   62000\n",
       "8      surya   33     chennai   68000\n",
       "9       nani   30      ongole   59000"
      ]
     },
     "execution_count": 118,
     "metadata": {},
     "output_type": "execute_result"
    }
   ],
   "source": [
    "df=pd.DataFrame(df)\n",
    "df"
   ]
  },
  {
   "cell_type": "code",
   "execution_count": 119,
   "id": "abaf4e98-a09f-4e60-8af8-aa7ed0bf3dcd",
   "metadata": {},
   "outputs": [],
   "source": [
    "# using .info(), .describe()\n"
   ]
  },
  {
   "cell_type": "code",
   "execution_count": 120,
   "id": "de949cfc-42cc-4c8a-9856-3a798a4e9aa4",
   "metadata": {},
   "outputs": [
    {
     "name": "stdout",
     "output_type": "stream",
     "text": [
      "<class 'pandas.core.frame.DataFrame'>\n",
      "RangeIndex: 10 entries, 0 to 9\n",
      "Data columns (total 4 columns):\n",
      " #   Column  Non-Null Count  Dtype \n",
      "---  ------  --------------  ----- \n",
      " 0   Name    10 non-null     object\n",
      " 1   Age     10 non-null     int64 \n",
      " 2   City    10 non-null     object\n",
      " 3   Salary  10 non-null     int64 \n",
      "dtypes: int64(2), object(2)\n",
      "memory usage: 452.0+ bytes\n"
     ]
    }
   ],
   "source": [
    "df.info()"
   ]
  },
  {
   "cell_type": "code",
   "execution_count": 121,
   "id": "bb0ca5e0-c735-4877-a417-1d9c83ece2b3",
   "metadata": {},
   "outputs": [
    {
     "data": {
      "text/html": [
       "<div>\n",
       "<style scoped>\n",
       "    .dataframe tbody tr th:only-of-type {\n",
       "        vertical-align: middle;\n",
       "    }\n",
       "\n",
       "    .dataframe tbody tr th {\n",
       "        vertical-align: top;\n",
       "    }\n",
       "\n",
       "    .dataframe thead th {\n",
       "        text-align: right;\n",
       "    }\n",
       "</style>\n",
       "<table border=\"1\" class=\"dataframe\">\n",
       "  <thead>\n",
       "    <tr style=\"text-align: right;\">\n",
       "      <th></th>\n",
       "      <th>Age</th>\n",
       "      <th>Salary</th>\n",
       "    </tr>\n",
       "  </thead>\n",
       "  <tbody>\n",
       "    <tr>\n",
       "      <th>count</th>\n",
       "      <td>10.000000</td>\n",
       "      <td>10.000000</td>\n",
       "    </tr>\n",
       "    <tr>\n",
       "      <th>mean</th>\n",
       "      <td>29.900000</td>\n",
       "      <td>66500.000000</td>\n",
       "    </tr>\n",
       "    <tr>\n",
       "      <th>std</th>\n",
       "      <td>5.279941</td>\n",
       "      <td>7863.417408</td>\n",
       "    </tr>\n",
       "    <tr>\n",
       "      <th>min</th>\n",
       "      <td>24.000000</td>\n",
       "      <td>55000.000000</td>\n",
       "    </tr>\n",
       "    <tr>\n",
       "      <th>25%</th>\n",
       "      <td>25.000000</td>\n",
       "      <td>60500.000000</td>\n",
       "    </tr>\n",
       "    <tr>\n",
       "      <th>50%</th>\n",
       "      <td>29.500000</td>\n",
       "      <td>66000.000000</td>\n",
       "    </tr>\n",
       "    <tr>\n",
       "      <th>75%</th>\n",
       "      <td>32.750000</td>\n",
       "      <td>71500.000000</td>\n",
       "    </tr>\n",
       "    <tr>\n",
       "      <th>max</th>\n",
       "      <td>40.000000</td>\n",
       "      <td>80000.000000</td>\n",
       "    </tr>\n",
       "  </tbody>\n",
       "</table>\n",
       "</div>"
      ],
      "text/plain": [
       "             Age        Salary\n",
       "count  10.000000     10.000000\n",
       "mean   29.900000  66500.000000\n",
       "std     5.279941   7863.417408\n",
       "min    24.000000  55000.000000\n",
       "25%    25.000000  60500.000000\n",
       "50%    29.500000  66000.000000\n",
       "75%    32.750000  71500.000000\n",
       "max    40.000000  80000.000000"
      ]
     },
     "execution_count": 121,
     "metadata": {},
     "output_type": "execute_result"
    }
   ],
   "source": [
    "df.describe()"
   ]
  },
  {
   "cell_type": "code",
   "execution_count": 124,
   "id": "31d09bdb-f9d0-42d3-bce5-364109a931b2",
   "metadata": {},
   "outputs": [
    {
     "data": {
      "text/html": [
       "<div>\n",
       "<style scoped>\n",
       "    .dataframe tbody tr th:only-of-type {\n",
       "        vertical-align: middle;\n",
       "    }\n",
       "\n",
       "    .dataframe tbody tr th {\n",
       "        vertical-align: top;\n",
       "    }\n",
       "\n",
       "    .dataframe thead th {\n",
       "        text-align: right;\n",
       "    }\n",
       "</style>\n",
       "<table border=\"1\" class=\"dataframe\">\n",
       "  <thead>\n",
       "    <tr style=\"text-align: right;\">\n",
       "      <th></th>\n",
       "      <th>Name</th>\n",
       "      <th>City</th>\n",
       "    </tr>\n",
       "  </thead>\n",
       "  <tbody>\n",
       "    <tr>\n",
       "      <th>0</th>\n",
       "      <td>koushik</td>\n",
       "      <td>tirupathi</td>\n",
       "    </tr>\n",
       "    <tr>\n",
       "      <th>1</th>\n",
       "      <td>sai</td>\n",
       "      <td>mumbai</td>\n",
       "    </tr>\n",
       "    <tr>\n",
       "      <th>2</th>\n",
       "      <td>mani</td>\n",
       "      <td>delhi</td>\n",
       "    </tr>\n",
       "    <tr>\n",
       "      <th>3</th>\n",
       "      <td>deva</td>\n",
       "      <td>vellore</td>\n",
       "    </tr>\n",
       "    <tr>\n",
       "      <th>4</th>\n",
       "      <td>parthiban</td>\n",
       "      <td>kashmir</td>\n",
       "    </tr>\n",
       "    <tr>\n",
       "      <th>5</th>\n",
       "      <td>kabir</td>\n",
       "      <td>Pune</td>\n",
       "    </tr>\n",
       "    <tr>\n",
       "      <th>6</th>\n",
       "      <td>Babu</td>\n",
       "      <td>vijayawada</td>\n",
       "    </tr>\n",
       "    <tr>\n",
       "      <th>7</th>\n",
       "      <td>rajini</td>\n",
       "      <td>kerala</td>\n",
       "    </tr>\n",
       "    <tr>\n",
       "      <th>8</th>\n",
       "      <td>surya</td>\n",
       "      <td>chennai</td>\n",
       "    </tr>\n",
       "    <tr>\n",
       "      <th>9</th>\n",
       "      <td>nani</td>\n",
       "      <td>ongole</td>\n",
       "    </tr>\n",
       "  </tbody>\n",
       "</table>\n",
       "</div>"
      ],
      "text/plain": [
       "        Name        City\n",
       "0    koushik   tirupathi\n",
       "1        sai      mumbai\n",
       "2       mani       delhi\n",
       "3       deva     vellore\n",
       "4  parthiban     kashmir\n",
       "5      kabir        Pune\n",
       "6       Babu  vijayawada\n",
       "7     rajini      kerala\n",
       "8      surya     chennai\n",
       "9       nani      ongole"
      ]
     },
     "execution_count": 124,
     "metadata": {},
     "output_type": "execute_result"
    }
   ],
   "source": [
    "# select 'name' and 'city' columns\n",
    "df[['Name','City']]"
   ]
  },
  {
   "cell_type": "code",
   "execution_count": 126,
   "id": "8072ac45-462e-4ee9-b7e3-102cbc2f11b0",
   "metadata": {},
   "outputs": [
    {
     "data": {
      "text/html": [
       "<div>\n",
       "<style scoped>\n",
       "    .dataframe tbody tr th:only-of-type {\n",
       "        vertical-align: middle;\n",
       "    }\n",
       "\n",
       "    .dataframe tbody tr th {\n",
       "        vertical-align: top;\n",
       "    }\n",
       "\n",
       "    .dataframe thead th {\n",
       "        text-align: right;\n",
       "    }\n",
       "</style>\n",
       "<table border=\"1\" class=\"dataframe\">\n",
       "  <thead>\n",
       "    <tr style=\"text-align: right;\">\n",
       "      <th></th>\n",
       "      <th>Name</th>\n",
       "      <th>Age</th>\n",
       "      <th>Salary</th>\n",
       "    </tr>\n",
       "  </thead>\n",
       "  <tbody>\n",
       "    <tr>\n",
       "      <th>0</th>\n",
       "      <td>koushik</td>\n",
       "      <td>28</td>\n",
       "      <td>70000</td>\n",
       "    </tr>\n",
       "    <tr>\n",
       "      <th>1</th>\n",
       "      <td>sai</td>\n",
       "      <td>24</td>\n",
       "      <td>80000</td>\n",
       "    </tr>\n",
       "    <tr>\n",
       "      <th>2</th>\n",
       "      <td>mani</td>\n",
       "      <td>35</td>\n",
       "      <td>55000</td>\n",
       "    </tr>\n",
       "    <tr>\n",
       "      <th>3</th>\n",
       "      <td>deva</td>\n",
       "      <td>32</td>\n",
       "      <td>75000</td>\n",
       "    </tr>\n",
       "    <tr>\n",
       "      <th>4</th>\n",
       "      <td>parthiban</td>\n",
       "      <td>24</td>\n",
       "      <td>64000</td>\n",
       "    </tr>\n",
       "    <tr>\n",
       "      <th>5</th>\n",
       "      <td>kabir</td>\n",
       "      <td>24</td>\n",
       "      <td>60000</td>\n",
       "    </tr>\n",
       "    <tr>\n",
       "      <th>6</th>\n",
       "      <td>Babu</td>\n",
       "      <td>40</td>\n",
       "      <td>72000</td>\n",
       "    </tr>\n",
       "    <tr>\n",
       "      <th>7</th>\n",
       "      <td>rajini</td>\n",
       "      <td>29</td>\n",
       "      <td>62000</td>\n",
       "    </tr>\n",
       "    <tr>\n",
       "      <th>8</th>\n",
       "      <td>surya</td>\n",
       "      <td>33</td>\n",
       "      <td>68000</td>\n",
       "    </tr>\n",
       "    <tr>\n",
       "      <th>9</th>\n",
       "      <td>nani</td>\n",
       "      <td>30</td>\n",
       "      <td>59000</td>\n",
       "    </tr>\n",
       "  </tbody>\n",
       "</table>\n",
       "</div>"
      ],
      "text/plain": [
       "        Name  Age  Salary\n",
       "0    koushik   28   70000\n",
       "1        sai   24   80000\n",
       "2       mani   35   55000\n",
       "3       deva   32   75000\n",
       "4  parthiban   24   64000\n",
       "5      kabir   24   60000\n",
       "6       Babu   40   72000\n",
       "7     rajini   29   62000\n",
       "8      surya   33   68000\n",
       "9       nani   30   59000"
      ]
     },
     "execution_count": 126,
     "metadata": {},
     "output_type": "execute_result"
    }
   ],
   "source": [
    "# drop 'city' column\n",
    "df.drop('City',axis=1)"
   ]
  },
  {
   "cell_type": "code",
   "execution_count": 128,
   "id": "e91722e6-b11c-4875-bed0-1cf44b1579ff",
   "metadata": {},
   "outputs": [
    {
     "name": "stdout",
     "output_type": "stream",
     "text": [
      "        Name  Age        City  Salary\n",
      "0    koushik   28   tirupathi   70000\n",
      "1        sai   24      mumbai   80000\n",
      "2       mani   35       delhi   55000\n",
      "3       deva   32     vellore   75000\n",
      "4  parthiban   24     kashmir   64000\n",
      "5      kabir   24        Pune   60000\n",
      "6       Babu   40  vijayawada   72000\n",
      "7     rajini   29      kerala   62000\n",
      "8      surya   33     chennai   68000\n",
      "9       nani   30      ongole   59000\n"
     ]
    }
   ],
   "source": [
    "# Filling any missing values in 'Salary' column with the mean\n",
    "mean_of_salary=df['Salary'].mean()\n",
    "df['Salary']=df['Salary'].fillna(mean_of_salary)\n",
    "print(df)"
   ]
  },
  {
   "cell_type": "code",
   "execution_count": 131,
   "id": "0569e9a2-cf5b-4728-85c3-768e1a900c69",
   "metadata": {},
   "outputs": [
    {
     "data": {
      "text/html": [
       "<div>\n",
       "<style scoped>\n",
       "    .dataframe tbody tr th:only-of-type {\n",
       "        vertical-align: middle;\n",
       "    }\n",
       "\n",
       "    .dataframe tbody tr th {\n",
       "        vertical-align: top;\n",
       "    }\n",
       "\n",
       "    .dataframe thead th {\n",
       "        text-align: right;\n",
       "    }\n",
       "</style>\n",
       "<table border=\"1\" class=\"dataframe\">\n",
       "  <thead>\n",
       "    <tr style=\"text-align: right;\">\n",
       "      <th></th>\n",
       "      <th>Name</th>\n",
       "      <th>Age</th>\n",
       "      <th>City</th>\n",
       "      <th>Salary</th>\n",
       "    </tr>\n",
       "  </thead>\n",
       "  <tbody>\n",
       "    <tr>\n",
       "      <th>0</th>\n",
       "      <td>koushik</td>\n",
       "      <td>28</td>\n",
       "      <td>tirupathi</td>\n",
       "      <td>70000</td>\n",
       "    </tr>\n",
       "    <tr>\n",
       "      <th>1</th>\n",
       "      <td>sai</td>\n",
       "      <td>24</td>\n",
       "      <td>mumbai</td>\n",
       "      <td>80000</td>\n",
       "    </tr>\n",
       "    <tr>\n",
       "      <th>2</th>\n",
       "      <td>mani</td>\n",
       "      <td>35</td>\n",
       "      <td>delhi</td>\n",
       "      <td>55000</td>\n",
       "    </tr>\n",
       "    <tr>\n",
       "      <th>3</th>\n",
       "      <td>deva</td>\n",
       "      <td>32</td>\n",
       "      <td>vellore</td>\n",
       "      <td>75000</td>\n",
       "    </tr>\n",
       "    <tr>\n",
       "      <th>4</th>\n",
       "      <td>parthiban</td>\n",
       "      <td>24</td>\n",
       "      <td>kashmir</td>\n",
       "      <td>64000</td>\n",
       "    </tr>\n",
       "    <tr>\n",
       "      <th>5</th>\n",
       "      <td>kabir</td>\n",
       "      <td>24</td>\n",
       "      <td>Pune</td>\n",
       "      <td>60000</td>\n",
       "    </tr>\n",
       "    <tr>\n",
       "      <th>6</th>\n",
       "      <td>Babu</td>\n",
       "      <td>40</td>\n",
       "      <td>vijayawada</td>\n",
       "      <td>72000</td>\n",
       "    </tr>\n",
       "    <tr>\n",
       "      <th>7</th>\n",
       "      <td>rajini</td>\n",
       "      <td>29</td>\n",
       "      <td>kerala</td>\n",
       "      <td>62000</td>\n",
       "    </tr>\n",
       "    <tr>\n",
       "      <th>8</th>\n",
       "      <td>surya</td>\n",
       "      <td>33</td>\n",
       "      <td>chennai</td>\n",
       "      <td>68000</td>\n",
       "    </tr>\n",
       "    <tr>\n",
       "      <th>9</th>\n",
       "      <td>nani</td>\n",
       "      <td>30</td>\n",
       "      <td>ongole</td>\n",
       "      <td>59000</td>\n",
       "    </tr>\n",
       "  </tbody>\n",
       "</table>\n",
       "</div>"
      ],
      "text/plain": [
       "        Name  Age        City  Salary\n",
       "0    koushik   28   tirupathi   70000\n",
       "1        sai   24      mumbai   80000\n",
       "2       mani   35       delhi   55000\n",
       "3       deva   32     vellore   75000\n",
       "4  parthiban   24     kashmir   64000\n",
       "5      kabir   24        Pune   60000\n",
       "6       Babu   40  vijayawada   72000\n",
       "7     rajini   29      kerala   62000\n",
       "8      surya   33     chennai   68000\n",
       "9       nani   30      ongole   59000"
      ]
     },
     "execution_count": 131,
     "metadata": {},
     "output_type": "execute_result"
    }
   ],
   "source": [
    "# Remove any duplicate rows\n",
    "df.drop_duplicates()"
   ]
  },
  {
   "cell_type": "code",
   "execution_count": null,
   "id": "46bffbf4-99b2-4f3b-a7dd-64cbc28d95f5",
   "metadata": {},
   "outputs": [],
   "source": []
  },
  {
   "cell_type": "code",
   "execution_count": null,
   "id": "192798d9-37fc-4be7-9849-0803bd2c7339",
   "metadata": {},
   "outputs": [],
   "source": []
  },
  {
   "cell_type": "code",
   "execution_count": null,
   "id": "496c2c33-3634-497f-a2f0-ad6a7a7c60ba",
   "metadata": {},
   "outputs": [],
   "source": []
  }
 ],
 "metadata": {
  "kernelspec": {
   "display_name": "Python [conda env:base] *",
   "language": "python",
   "name": "conda-base-py"
  },
  "language_info": {
   "codemirror_mode": {
    "name": "ipython",
    "version": 3
   },
   "file_extension": ".py",
   "mimetype": "text/x-python",
   "name": "python",
   "nbconvert_exporter": "python",
   "pygments_lexer": "ipython3",
   "version": "3.13.5"
  }
 },
 "nbformat": 4,
 "nbformat_minor": 5
}
